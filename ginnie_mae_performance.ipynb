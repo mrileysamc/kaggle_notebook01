{
 "cells": [
  {
   "cell_type": "code",
   "execution_count": 1,
   "id": "82326324",
   "metadata": {
    "_cell_guid": "b1076dfc-b9ad-4769-8c92-a6c4dae69d19",
    "_uuid": "8f2839f25d086af736a60e9eeb907d3b93b6e0e5",
    "execution": {
     "iopub.execute_input": "2022-11-28T00:41:31.863551Z",
     "iopub.status.busy": "2022-11-28T00:41:31.863100Z",
     "iopub.status.idle": "2022-11-28T00:41:31.881916Z",
     "shell.execute_reply": "2022-11-28T00:41:31.880992Z"
    },
    "papermill": {
     "duration": 0.02785,
     "end_time": "2022-11-28T00:41:31.885388",
     "exception": false,
     "start_time": "2022-11-28T00:41:31.857538",
     "status": "completed"
    },
    "tags": []
   },
   "outputs": [
    {
     "name": "stdout",
     "output_type": "stream",
     "text": [
      "/kaggle/input/mbs-sf-port-loan-level-ginnie-ii/protectedfiledownload.aspx\n",
      "/kaggle/input/mbs-sf-port-loan-level-ginnie-ii/protectedfiledownload_1.aspx\n"
     ]
    }
   ],
   "source": [
    "# This Python 3 environment comes with many helpful analytics libraries installed\n",
    "# It is defined by the kaggle/python Docker image: https://github.com/kaggle/docker-python\n",
    "# For example, here's several helpful packages to load\n",
    "\n",
    "import numpy as np # linear algebra\n",
    "import pandas as pd # data processing, CSV file I/O (e.g. pd.read_csv)\n",
    "\n",
    "# Input data files are available in the read-only \"../input/\" directory\n",
    "# For example, running this (by clicking run or pressing Shift+Enter) will list all files under the input directory\n",
    "\n",
    "import os\n",
    "for dirname, _, filenames in os.walk('/kaggle/input'):\n",
    "    for filename in filenames:\n",
    "        print(os.path.join(dirname, filename))\n",
    "\n",
    "# You can write up to 20GB to the current directory (/kaggle/working/) that gets preserved as output when you create a version using \"Save & Run All\" \n",
    "# You can also write temporary files to /kaggle/temp/, but they won't be saved outside of the current session"
   ]
  },
  {
   "cell_type": "code",
   "execution_count": 2,
   "id": "58905086",
   "metadata": {
    "execution": {
     "iopub.execute_input": "2022-11-28T00:41:31.893756Z",
     "iopub.status.busy": "2022-11-28T00:41:31.892859Z",
     "iopub.status.idle": "2022-11-28T00:41:31.898235Z",
     "shell.execute_reply": "2022-11-28T00:41:31.897118Z"
    },
    "papermill": {
     "duration": 0.011497,
     "end_time": "2022-11-28T00:41:31.900517",
     "exception": false,
     "start_time": "2022-11-28T00:41:31.889020",
     "status": "completed"
    },
    "tags": []
   },
   "outputs": [],
   "source": [
    "from zipfile import ZipFile"
   ]
  },
  {
   "cell_type": "code",
   "execution_count": 3,
   "id": "c81d7c70",
   "metadata": {
    "execution": {
     "iopub.execute_input": "2022-11-28T00:41:31.907715Z",
     "iopub.status.busy": "2022-11-28T00:41:31.907344Z",
     "iopub.status.idle": "2022-11-28T00:41:31.915699Z",
     "shell.execute_reply": "2022-11-28T00:41:31.914460Z"
    },
    "papermill": {
     "duration": 0.014781,
     "end_time": "2022-11-28T00:41:31.918121",
     "exception": false,
     "start_time": "2022-11-28T00:41:31.903340",
     "status": "completed"
    },
    "tags": []
   },
   "outputs": [],
   "source": [
    "x = ZipFile('/kaggle/input/mbs-sf-port-loan-level-ginnie-ii/protectedfiledownload_1.aspx')"
   ]
  },
  {
   "cell_type": "code",
   "execution_count": 4,
   "id": "a57bbf45",
   "metadata": {
    "execution": {
     "iopub.execute_input": "2022-11-28T00:41:31.925673Z",
     "iopub.status.busy": "2022-11-28T00:41:31.925322Z",
     "iopub.status.idle": "2022-11-28T00:41:31.930934Z",
     "shell.execute_reply": "2022-11-28T00:41:31.929657Z"
    },
    "papermill": {
     "duration": 0.012186,
     "end_time": "2022-11-28T00:41:31.933287",
     "exception": false,
     "start_time": "2022-11-28T00:41:31.921101",
     "status": "completed"
    },
    "tags": []
   },
   "outputs": [
    {
     "name": "stdout",
     "output_type": "stream",
     "text": [
      "File Name                                             Modified             Size\n",
      "GNMA_MBS_LL_MON_202208_002.txt                 2022-09-08 23:25:42   1947442065\n"
     ]
    }
   ],
   "source": [
    "x.printdir()"
   ]
  },
  {
   "cell_type": "code",
   "execution_count": 5,
   "id": "db1fab7a",
   "metadata": {
    "execution": {
     "iopub.execute_input": "2022-11-28T00:41:31.940782Z",
     "iopub.status.busy": "2022-11-28T00:41:31.940136Z",
     "iopub.status.idle": "2022-11-28T00:41:32.010338Z",
     "shell.execute_reply": "2022-11-28T00:41:32.009131Z"
    },
    "papermill": {
     "duration": 0.076413,
     "end_time": "2022-11-28T00:41:32.012719",
     "exception": false,
     "start_time": "2022-11-28T00:41:31.936306",
     "status": "completed"
    },
    "tags": []
   },
   "outputs": [
    {
     "name": "stdout",
     "output_type": "stream",
     "text": [
      "HGNMA_MBS_LL_MON_202208002N2022082022090\n",
      "P36202AN37000410MSF19921001    202208\r\n",
      "\n",
      "L00041010234776814143F1 1992100120220901\n",
      "T36202AN37000410MSF19921001    202208000\n",
      "P36202AP68000445MSF19921101    202208\r\n",
      "\n",
      "L00044510232341873355V1 1992110120221001\n",
      "L00044510233001143355F1 1992120120221101\n",
      "T36202AP68000445MSF19921101    202208000\n",
      "P36202AP76000446MSF19921101    202208\r\n",
      "\n",
      "L00044610233896042450V1 1992110120221001\n",
      "L00044610234006104206F1 1992110120221001\n",
      "L00044610234258551997F1 1992110120221001\n",
      "L00044610234458353355F1 1992110120221001\n",
      "L00044610234627114052F1 1992110120221001\n",
      "T36202AP76000446MSF19921101    202208000\n",
      "P36202AS99000544MSF19921201    202208\r\n",
      "\n",
      "L00054410232503253355V1 1992110120221001\n",
      "T36202AS99000544MSF19921201    202208000\n",
      "P36202ATA5000545MSF19921201    202208\r\n",
      "\n",
      "L00054510234039503355F  1993010120221201\n"
     ]
    }
   ],
   "source": [
    "with x.open('GNMA_MBS_LL_MON_202208_002.txt') as d202208:\n",
    "    for i in range(20):\n",
    "        print(next(d202208).decode()[:40])\n",
    "    y = pd.read_fwf(d202208, nrows = 100)\n",
    "# print(head)"
   ]
  },
  {
   "cell_type": "code",
   "execution_count": 6,
   "id": "43eb3695",
   "metadata": {
    "execution": {
     "iopub.execute_input": "2022-11-28T00:41:32.020576Z",
     "iopub.status.busy": "2022-11-28T00:41:32.020203Z",
     "iopub.status.idle": "2022-11-28T00:41:32.054902Z",
     "shell.execute_reply": "2022-11-28T00:41:32.053838Z"
    },
    "papermill": {
     "duration": 0.041713,
     "end_time": "2022-11-28T00:41:32.057573",
     "exception": false,
     "start_time": "2022-11-28T00:41:32.015860",
     "status": "completed"
    },
    "tags": []
   },
   "outputs": [
    {
     "data": {
      "text/html": [
       "<div>\n",
       "<style scoped>\n",
       "    .dataframe tbody tr th:only-of-type {\n",
       "        vertical-align: middle;\n",
       "    }\n",
       "\n",
       "    .dataframe tbody tr th {\n",
       "        vertical-align: top;\n",
       "    }\n",
       "\n",
       "    .dataframe thead th {\n",
       "        text-align: right;\n",
       "    }\n",
       "</style>\n",
       "<table border=\"1\" class=\"dataframe\">\n",
       "  <thead>\n",
       "    <tr style=\"text-align: right;\">\n",
       "      <th></th>\n",
       "      <th>T36202ATA5000545MSF19921201    2022080000001</th>\n",
       "      <th>Unnamed: 1</th>\n",
       "      <th>Unnamed: 2</th>\n",
       "      <th>Unnamed: 3</th>\n",
       "      <th>Unnamed: 4</th>\n",
       "      <th>Unnamed: 5</th>\n",
       "    </tr>\n",
       "  </thead>\n",
       "  <tbody>\n",
       "    <tr>\n",
       "      <th>0</th>\n",
       "      <td>P36202ATU1000563MSF19921201    202208</td>\n",
       "      <td>NaN</td>\n",
       "      <td>NaN</td>\n",
       "      <td>NaN</td>\n",
       "      <td>NaN</td>\n",
       "      <td>NaN</td>\n",
       "    </tr>\n",
       "    <tr>\n",
       "      <th>1</th>\n",
       "      <td>L00056310234772133162F1 1992120120221101085000...</td>\n",
       "      <td>00000045863         00</td>\n",
       "      <td>9664.0</td>\n",
       "      <td>654NN03000005002</td>\n",
       "      <td>1MD</td>\n",
       "      <td>Y1202208</td>\n",
       "    </tr>\n",
       "    <tr>\n",
       "      <th>2</th>\n",
       "      <td>L00056310234829913355F1 1992120120221101085000...</td>\n",
       "      <td>0000011080836035700300</td>\n",
       "      <td>9601.0</td>\n",
       "      <td>645 N03000005002</td>\n",
       "      <td>1NY</td>\n",
       "      <td>N 202208</td>\n",
       "    </tr>\n",
       "    <tr>\n",
       "      <th>3</th>\n",
       "      <td>T36202ATU1000563MSF19921201    2022080000002</td>\n",
       "      <td>NaN</td>\n",
       "      <td>NaN</td>\n",
       "      <td>NaN</td>\n",
       "      <td>NaN</td>\n",
       "      <td>NaN</td>\n",
       "    </tr>\n",
       "    <tr>\n",
       "      <th>4</th>\n",
       "      <td>P36202AXK8000682MSF19930101    202208</td>\n",
       "      <td>NaN</td>\n",
       "      <td>NaN</td>\n",
       "      <td>NaN</td>\n",
       "      <td>NaN</td>\n",
       "      <td>NaN</td>\n",
       "    </tr>\n",
       "    <tr>\n",
       "      <th>...</th>\n",
       "      <td>...</td>\n",
       "      <td>...</td>\n",
       "      <td>...</td>\n",
       "      <td>...</td>\n",
       "      <td>...</td>\n",
       "      <td>...</td>\n",
       "    </tr>\n",
       "    <tr>\n",
       "      <th>95</th>\n",
       "      <td>L00130610232490313774F1 1993070120230601075000...</td>\n",
       "      <td>0000044752536035000900</td>\n",
       "      <td>9709.0</td>\n",
       "      <td>NY03000005001</td>\n",
       "      <td>1DE</td>\n",
       "      <td>N 202208</td>\n",
       "    </tr>\n",
       "    <tr>\n",
       "      <th>96</th>\n",
       "      <td>L00130610233130283355F1 1993080120230701075000...</td>\n",
       "      <td>0000041834236034901001</td>\n",
       "      <td>9772.0</td>\n",
       "      <td>727 N03000005001</td>\n",
       "      <td>1TN</td>\n",
       "      <td>N 202208</td>\n",
       "    </tr>\n",
       "    <tr>\n",
       "      <th>97</th>\n",
       "      <td>L00130610234104252936F1 1993090120230801080000...</td>\n",
       "      <td>0000036058236034800600</td>\n",
       "      <td>9761.0</td>\n",
       "      <td>Y03000005002</td>\n",
       "      <td>1MN</td>\n",
       "      <td>N 202208</td>\n",
       "    </tr>\n",
       "    <tr>\n",
       "      <th>98</th>\n",
       "      <td>T36202BNX9001306MSF19930801    2022080000003</td>\n",
       "      <td>NaN</td>\n",
       "      <td>NaN</td>\n",
       "      <td>NaN</td>\n",
       "      <td>NaN</td>\n",
       "      <td>NaN</td>\n",
       "    </tr>\n",
       "    <tr>\n",
       "      <th>99</th>\n",
       "      <td>P36202BPE9001321MSF19930801    202208</td>\n",
       "      <td>NaN</td>\n",
       "      <td>NaN</td>\n",
       "      <td>NaN</td>\n",
       "      <td>NaN</td>\n",
       "      <td>NaN</td>\n",
       "    </tr>\n",
       "  </tbody>\n",
       "</table>\n",
       "<p>100 rows × 6 columns</p>\n",
       "</div>"
      ],
      "text/plain": [
       "         T36202ATA5000545MSF19921201    2022080000001              Unnamed: 1  \\\n",
       "0               P36202ATU1000563MSF19921201    202208                     NaN   \n",
       "1   L00056310234772133162F1 1992120120221101085000...  00000045863         00   \n",
       "2   L00056310234829913355F1 1992120120221101085000...  0000011080836035700300   \n",
       "3        T36202ATU1000563MSF19921201    2022080000002                     NaN   \n",
       "4               P36202AXK8000682MSF19930101    202208                     NaN   \n",
       "..                                                ...                     ...   \n",
       "95  L00130610232490313774F1 1993070120230601075000...  0000044752536035000900   \n",
       "96  L00130610233130283355F1 1993080120230701075000...  0000041834236034901001   \n",
       "97  L00130610234104252936F1 1993090120230801080000...  0000036058236034800600   \n",
       "98       T36202BNX9001306MSF19930801    2022080000003                     NaN   \n",
       "99              P36202BPE9001321MSF19930801    202208                     NaN   \n",
       "\n",
       "    Unnamed: 2        Unnamed: 3 Unnamed: 4 Unnamed: 5  \n",
       "0          NaN               NaN        NaN        NaN  \n",
       "1       9664.0  654NN03000005002        1MD   Y1202208  \n",
       "2       9601.0  645 N03000005002        1NY   N 202208  \n",
       "3          NaN               NaN        NaN        NaN  \n",
       "4          NaN               NaN        NaN        NaN  \n",
       "..         ...               ...        ...        ...  \n",
       "95      9709.0     NY03000005001        1DE   N 202208  \n",
       "96      9772.0  727 N03000005001        1TN   N 202208  \n",
       "97      9761.0      Y03000005002        1MN   N 202208  \n",
       "98         NaN               NaN        NaN        NaN  \n",
       "99         NaN               NaN        NaN        NaN  \n",
       "\n",
       "[100 rows x 6 columns]"
      ]
     },
     "execution_count": 6,
     "metadata": {},
     "output_type": "execute_result"
    }
   ],
   "source": [
    "y"
   ]
  },
  {
   "cell_type": "code",
   "execution_count": 7,
   "id": "cb7812e4",
   "metadata": {
    "execution": {
     "iopub.execute_input": "2022-11-28T00:41:32.066263Z",
     "iopub.status.busy": "2022-11-28T00:41:32.065838Z",
     "iopub.status.idle": "2022-11-28T00:41:32.072063Z",
     "shell.execute_reply": "2022-11-28T00:41:32.070532Z"
    },
    "papermill": {
     "duration": 0.01317,
     "end_time": "2022-11-28T00:41:32.074341",
     "exception": false,
     "start_time": "2022-11-28T00:41:32.061171",
     "status": "completed"
    },
    "tags": []
   },
   "outputs": [
    {
     "name": "stdout",
     "output_type": "stream",
     "text": [
      "test\n"
     ]
    }
   ],
   "source": [
    "print('test')"
   ]
  },
  {
   "cell_type": "code",
   "execution_count": null,
   "id": "419df592",
   "metadata": {
    "papermill": {
     "duration": 0.003071,
     "end_time": "2022-11-28T00:41:32.080988",
     "exception": false,
     "start_time": "2022-11-28T00:41:32.077917",
     "status": "completed"
    },
    "tags": []
   },
   "outputs": [],
   "source": []
  }
 ],
 "metadata": {
  "kernelspec": {
   "display_name": "Python 3",
   "language": "python",
   "name": "python3"
  },
  "language_info": {
   "codemirror_mode": {
    "name": "ipython",
    "version": 3
   },
   "file_extension": ".py",
   "mimetype": "text/x-python",
   "name": "python",
   "nbconvert_exporter": "python",
   "pygments_lexer": "ipython3",
   "version": "3.7.12"
  },
  "papermill": {
   "default_parameters": {},
   "duration": 9.450918,
   "end_time": "2022-11-28T00:41:32.806932",
   "environment_variables": {},
   "exception": null,
   "input_path": "__notebook__.ipynb",
   "output_path": "__notebook__.ipynb",
   "parameters": {},
   "start_time": "2022-11-28T00:41:23.356014",
   "version": "2.3.4"
  }
 },
 "nbformat": 4,
 "nbformat_minor": 5
}
